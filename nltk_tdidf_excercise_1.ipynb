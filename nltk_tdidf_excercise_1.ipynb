{
 "cells": [
  {
   "cell_type": "markdown",
   "metadata": {},
   "source": [
    "## This is an excercise to find the most frequent words from CountVectorizer and TfidfTransformer\n",
    "\n",
    "#### This could be a form of feature engineering if needed"
   ]
  },
  {
   "cell_type": "code",
   "execution_count": 1,
   "metadata": {},
   "outputs": [],
   "source": [
    "import numpy as np\n",
    "import pandas as pd"
   ]
  },
  {
   "cell_type": "code",
   "execution_count": 2,
   "metadata": {},
   "outputs": [
    {
     "data": {
      "text/html": [
       "        <script type=\"text/javascript\">\n",
       "        window.PlotlyConfig = {MathJaxConfig: 'local'};\n",
       "        if (window.MathJax) {MathJax.Hub.Config({SVG: {font: \"STIX-Web\"}});}\n",
       "        if (typeof require !== 'undefined') {\n",
       "        require.undef(\"plotly\");\n",
       "        requirejs.config({\n",
       "            paths: {\n",
       "                'plotly': ['https://cdn.plot.ly/plotly-latest.min']\n",
       "            }\n",
       "        });\n",
       "        require(['plotly'], function(Plotly) {\n",
       "            window._Plotly = Plotly;\n",
       "        });\n",
       "        }\n",
       "        </script>\n",
       "        "
      ]
     },
     "metadata": {},
     "output_type": "display_data"
    },
    {
     "data": {
      "text/html": [
       "        <script type=\"text/javascript\">\n",
       "        window.PlotlyConfig = {MathJaxConfig: 'local'};\n",
       "        if (window.MathJax) {MathJax.Hub.Config({SVG: {font: \"STIX-Web\"}});}\n",
       "        if (typeof require !== 'undefined') {\n",
       "        require.undef(\"plotly\");\n",
       "        requirejs.config({\n",
       "            paths: {\n",
       "                'plotly': ['https://cdn.plot.ly/plotly-latest.min']\n",
       "            }\n",
       "        });\n",
       "        require(['plotly'], function(Plotly) {\n",
       "            window._Plotly = Plotly;\n",
       "        });\n",
       "        }\n",
       "        </script>\n",
       "        "
      ]
     },
     "metadata": {},
     "output_type": "display_data"
    }
   ],
   "source": [
    "from plotly.offline import download_plotlyjs, init_notebook_mode, plot, iplot\n",
    "import plotly.express as px\n",
    "import cufflinks as cf\n",
    "\n",
    "init_notebook_mode(connected=True)\n",
    "cf.go_offline()"
   ]
  },
  {
   "cell_type": "code",
   "execution_count": 3,
   "metadata": {},
   "outputs": [
    {
     "name": "stdout",
     "output_type": "stream",
     "text": [
      "showing info https://raw.githubusercontent.com/nltk/nltk_data/gh-pages/index.xml\n"
     ]
    },
    {
     "data": {
      "text/plain": [
       "True"
      ]
     },
     "execution_count": 3,
     "metadata": {},
     "output_type": "execute_result"
    }
   ],
   "source": [
    "import nltk # Imports the library\n",
    "nltk.download() #Download the necessary datasets"
   ]
  },
  {
   "cell_type": "markdown",
   "metadata": {},
   "source": [
    "### I am using the slogan dataset from Kaggle"
   ]
  },
  {
   "cell_type": "code",
   "execution_count": 4,
   "metadata": {},
   "outputs": [],
   "source": [
    "df = pd.read_csv('sloganlist.csv')"
   ]
  },
  {
   "cell_type": "code",
   "execution_count": 5,
   "metadata": {},
   "outputs": [
    {
     "data": {
      "text/html": [
       "<div>\n",
       "<style scoped>\n",
       "    .dataframe tbody tr th:only-of-type {\n",
       "        vertical-align: middle;\n",
       "    }\n",
       "\n",
       "    .dataframe tbody tr th {\n",
       "        vertical-align: top;\n",
       "    }\n",
       "\n",
       "    .dataframe thead th {\n",
       "        text-align: right;\n",
       "    }\n",
       "</style>\n",
       "<table border=\"1\" class=\"dataframe\">\n",
       "  <thead>\n",
       "    <tr style=\"text-align: right;\">\n",
       "      <th></th>\n",
       "      <th>Company</th>\n",
       "      <th>Slogan</th>\n",
       "    </tr>\n",
       "  </thead>\n",
       "  <tbody>\n",
       "    <tr>\n",
       "      <th>0</th>\n",
       "      <td>Costa Coffee</td>\n",
       "      <td>For coffee lovers.</td>\n",
       "    </tr>\n",
       "    <tr>\n",
       "      <th>1</th>\n",
       "      <td>Evian</td>\n",
       "      <td>Evian. Live young.</td>\n",
       "    </tr>\n",
       "    <tr>\n",
       "      <th>2</th>\n",
       "      <td>Dasani</td>\n",
       "      <td>Designed to make a difference.</td>\n",
       "    </tr>\n",
       "    <tr>\n",
       "      <th>3</th>\n",
       "      <td>Heineken</td>\n",
       "      <td>It's all about the beer.</td>\n",
       "    </tr>\n",
       "    <tr>\n",
       "      <th>4</th>\n",
       "      <td>Gatorade</td>\n",
       "      <td>The Legend Continues.</td>\n",
       "    </tr>\n",
       "    <tr>\n",
       "      <th>5</th>\n",
       "      <td>TÃ­o Pepe</td>\n",
       "      <td>Good food tastes better after a glass of Tio Pepe</td>\n",
       "    </tr>\n",
       "    <tr>\n",
       "      <th>6</th>\n",
       "      <td>Tetley's Brewery</td>\n",
       "      <td>Don't Do Things By Halves.</td>\n",
       "    </tr>\n",
       "    <tr>\n",
       "      <th>7</th>\n",
       "      <td>Batemans Brewery</td>\n",
       "      <td>Good Honest Ales</td>\n",
       "    </tr>\n",
       "    <tr>\n",
       "      <th>8</th>\n",
       "      <td>Jones Soda</td>\n",
       "      <td>Run with the little guyâ¦ create some change.</td>\n",
       "    </tr>\n",
       "    <tr>\n",
       "      <th>9</th>\n",
       "      <td>Grapette</td>\n",
       "      <td>Thirsty or Not.</td>\n",
       "    </tr>\n",
       "  </tbody>\n",
       "</table>\n",
       "</div>"
      ],
      "text/plain": [
       "            Company                                             Slogan\n",
       "0      Costa Coffee                                 For coffee lovers.\n",
       "1             Evian                                 Evian. Live young.\n",
       "2            Dasani                     Designed to make a difference.\n",
       "3          Heineken                           It's all about the beer.\n",
       "4          Gatorade                              The Legend Continues.\n",
       "5         TÃ­o Pepe  Good food tastes better after a glass of Tio Pepe\n",
       "6  Tetley's Brewery                         Don't Do Things By Halves.\n",
       "7  Batemans Brewery                                   Good Honest Ales\n",
       "8        Jones Soda     Run with the little guyâ¦ create some change.\n",
       "9          Grapette                                    Thirsty or Not."
      ]
     },
     "execution_count": 5,
     "metadata": {},
     "output_type": "execute_result"
    }
   ],
   "source": [
    "df.head(10)"
   ]
  },
  {
   "cell_type": "code",
   "execution_count": 6,
   "metadata": {},
   "outputs": [
    {
     "data": {
      "text/html": [
       "<div>\n",
       "<style scoped>\n",
       "    .dataframe tbody tr th:only-of-type {\n",
       "        vertical-align: middle;\n",
       "    }\n",
       "\n",
       "    .dataframe tbody tr th {\n",
       "        vertical-align: top;\n",
       "    }\n",
       "\n",
       "    .dataframe thead th {\n",
       "        text-align: right;\n",
       "    }\n",
       "</style>\n",
       "<table border=\"1\" class=\"dataframe\">\n",
       "  <thead>\n",
       "    <tr style=\"text-align: right;\">\n",
       "      <th></th>\n",
       "      <th>Company</th>\n",
       "      <th>Slogan</th>\n",
       "    </tr>\n",
       "  </thead>\n",
       "  <tbody>\n",
       "    <tr>\n",
       "      <th>count</th>\n",
       "      <td>1162</td>\n",
       "      <td>1162</td>\n",
       "    </tr>\n",
       "    <tr>\n",
       "      <th>unique</th>\n",
       "      <td>569</td>\n",
       "      <td>568</td>\n",
       "    </tr>\n",
       "    <tr>\n",
       "      <th>top</th>\n",
       "      <td>Domino's Pizza</td>\n",
       "      <td>Taste The Feeling.</td>\n",
       "    </tr>\n",
       "    <tr>\n",
       "      <th>freq</th>\n",
       "      <td>31</td>\n",
       "      <td>31</td>\n",
       "    </tr>\n",
       "  </tbody>\n",
       "</table>\n",
       "</div>"
      ],
      "text/plain": [
       "               Company              Slogan\n",
       "count             1162                1162\n",
       "unique             569                 568\n",
       "top     Domino's Pizza  Taste The Feeling.\n",
       "freq                31                  31"
      ]
     },
     "execution_count": 6,
     "metadata": {},
     "output_type": "execute_result"
    }
   ],
   "source": [
    "df.describe()"
   ]
  },
  {
   "cell_type": "markdown",
   "metadata": {},
   "source": [
    "---"
   ]
  },
  {
   "cell_type": "markdown",
   "metadata": {},
   "source": [
    "### From describe() looks like the csv file has many duplicate data. So I'll just remove all the duplicates"
   ]
  },
  {
   "cell_type": "code",
   "execution_count": 7,
   "metadata": {},
   "outputs": [
    {
     "data": {
      "text/html": [
       "<div>\n",
       "<style scoped>\n",
       "    .dataframe tbody tr th:only-of-type {\n",
       "        vertical-align: middle;\n",
       "    }\n",
       "\n",
       "    .dataframe tbody tr th {\n",
       "        vertical-align: top;\n",
       "    }\n",
       "\n",
       "    .dataframe thead th {\n",
       "        text-align: right;\n",
       "    }\n",
       "</style>\n",
       "<table border=\"1\" class=\"dataframe\">\n",
       "  <thead>\n",
       "    <tr style=\"text-align: right;\">\n",
       "      <th></th>\n",
       "      <th>Company</th>\n",
       "      <th>Slogan</th>\n",
       "    </tr>\n",
       "  </thead>\n",
       "  <tbody>\n",
       "    <tr>\n",
       "      <th>0</th>\n",
       "      <td>Costa Coffee</td>\n",
       "      <td>For coffee lovers.</td>\n",
       "    </tr>\n",
       "    <tr>\n",
       "      <th>1</th>\n",
       "      <td>Evian</td>\n",
       "      <td>Evian. Live young.</td>\n",
       "    </tr>\n",
       "    <tr>\n",
       "      <th>2</th>\n",
       "      <td>Dasani</td>\n",
       "      <td>Designed to make a difference.</td>\n",
       "    </tr>\n",
       "    <tr>\n",
       "      <th>3</th>\n",
       "      <td>Heineken</td>\n",
       "      <td>It's all about the beer.</td>\n",
       "    </tr>\n",
       "    <tr>\n",
       "      <th>4</th>\n",
       "      <td>Gatorade</td>\n",
       "      <td>The Legend Continues.</td>\n",
       "    </tr>\n",
       "    <tr>\n",
       "      <th>...</th>\n",
       "      <td>...</td>\n",
       "      <td>...</td>\n",
       "    </tr>\n",
       "    <tr>\n",
       "      <th>1136</th>\n",
       "      <td>Hardee's</td>\n",
       "      <td>Where the food's the star.</td>\n",
       "    </tr>\n",
       "    <tr>\n",
       "      <th>1137</th>\n",
       "      <td>Burger King</td>\n",
       "      <td>Have it your way.</td>\n",
       "    </tr>\n",
       "    <tr>\n",
       "      <th>1138</th>\n",
       "      <td>Kit Kat</td>\n",
       "      <td>Have a Break, Have a Kit Kat.</td>\n",
       "    </tr>\n",
       "    <tr>\n",
       "      <th>1139</th>\n",
       "      <td>Subway</td>\n",
       "      <td>Eat Fresh.</td>\n",
       "    </tr>\n",
       "    <tr>\n",
       "      <th>1141</th>\n",
       "      <td>McDonalds</td>\n",
       "      <td>Iâm Lovinâ It.</td>\n",
       "    </tr>\n",
       "  </tbody>\n",
       "</table>\n",
       "<p>569 rows × 2 columns</p>\n",
       "</div>"
      ],
      "text/plain": [
       "           Company                          Slogan\n",
       "0     Costa Coffee              For coffee lovers.\n",
       "1            Evian              Evian. Live young.\n",
       "2           Dasani  Designed to make a difference.\n",
       "3         Heineken        It's all about the beer.\n",
       "4         Gatorade           The Legend Continues.\n",
       "...            ...                             ...\n",
       "1136      Hardee's      Where the food's the star.\n",
       "1137   Burger King               Have it your way.\n",
       "1138       Kit Kat   Have a Break, Have a Kit Kat.\n",
       "1139        Subway                      Eat Fresh.\n",
       "1141     McDonalds              Iâm Lovinâ It.\n",
       "\n",
       "[569 rows x 2 columns]"
      ]
     },
     "execution_count": 7,
     "metadata": {},
     "output_type": "execute_result"
    }
   ],
   "source": [
    "df = df.drop_duplicates() \n",
    "df"
   ]
  },
  {
   "cell_type": "code",
   "execution_count": 8,
   "metadata": {},
   "outputs": [
    {
     "data": {
      "text/html": [
       "<div>\n",
       "<style scoped>\n",
       "    .dataframe tbody tr th:only-of-type {\n",
       "        vertical-align: middle;\n",
       "    }\n",
       "\n",
       "    .dataframe tbody tr th {\n",
       "        vertical-align: top;\n",
       "    }\n",
       "\n",
       "    .dataframe thead th {\n",
       "        text-align: right;\n",
       "    }\n",
       "</style>\n",
       "<table border=\"1\" class=\"dataframe\">\n",
       "  <thead>\n",
       "    <tr style=\"text-align: right;\">\n",
       "      <th></th>\n",
       "      <th>Company</th>\n",
       "      <th>Slogan</th>\n",
       "    </tr>\n",
       "  </thead>\n",
       "  <tbody>\n",
       "    <tr>\n",
       "      <th>count</th>\n",
       "      <td>569</td>\n",
       "      <td>569</td>\n",
       "    </tr>\n",
       "    <tr>\n",
       "      <th>unique</th>\n",
       "      <td>569</td>\n",
       "      <td>568</td>\n",
       "    </tr>\n",
       "    <tr>\n",
       "      <th>top</th>\n",
       "      <td>Del Taco</td>\n",
       "      <td>Exquisite wodka.</td>\n",
       "    </tr>\n",
       "    <tr>\n",
       "      <th>freq</th>\n",
       "      <td>1</td>\n",
       "      <td>2</td>\n",
       "    </tr>\n",
       "  </tbody>\n",
       "</table>\n",
       "</div>"
      ],
      "text/plain": [
       "         Company            Slogan\n",
       "count        569               569\n",
       "unique       569               568\n",
       "top     Del Taco  Exquisite wodka.\n",
       "freq           1                 2"
      ]
     },
     "execution_count": 8,
     "metadata": {},
     "output_type": "execute_result"
    }
   ],
   "source": [
    "df.describe()"
   ]
  },
  {
   "cell_type": "code",
   "execution_count": 9,
   "metadata": {},
   "outputs": [
    {
     "data": {
      "text/html": [
       "<div>\n",
       "<style scoped>\n",
       "    .dataframe tbody tr th:only-of-type {\n",
       "        vertical-align: middle;\n",
       "    }\n",
       "\n",
       "    .dataframe tbody tr th {\n",
       "        vertical-align: top;\n",
       "    }\n",
       "\n",
       "    .dataframe thead th {\n",
       "        text-align: right;\n",
       "    }\n",
       "</style>\n",
       "<table border=\"1\" class=\"dataframe\">\n",
       "  <thead>\n",
       "    <tr style=\"text-align: right;\">\n",
       "      <th></th>\n",
       "      <th>Company</th>\n",
       "      <th>Slogan</th>\n",
       "    </tr>\n",
       "  </thead>\n",
       "  <tbody>\n",
       "    <tr>\n",
       "      <th>334</th>\n",
       "      <td>Wyborowa Vodka</td>\n",
       "      <td>Exquisite wodka.</td>\n",
       "    </tr>\n",
       "    <tr>\n",
       "      <th>448</th>\n",
       "      <td>Stolichnaya vodka</td>\n",
       "      <td>Exquisite wodka.</td>\n",
       "    </tr>\n",
       "  </tbody>\n",
       "</table>\n",
       "</div>"
      ],
      "text/plain": [
       "               Company            Slogan\n",
       "334     Wyborowa Vodka  Exquisite wodka.\n",
       "448  Stolichnaya vodka  Exquisite wodka."
      ]
     },
     "execution_count": 9,
     "metadata": {},
     "output_type": "execute_result"
    }
   ],
   "source": [
    "df[df['Slogan'] == 'Exquisite wodka.']"
   ]
  },
  {
   "cell_type": "markdown",
   "metadata": {},
   "source": [
    "### Two different brands of vodka with the same slogan so I'll let it be"
   ]
  },
  {
   "cell_type": "markdown",
   "metadata": {},
   "source": [
    "---"
   ]
  },
  {
   "cell_type": "markdown",
   "metadata": {},
   "source": [
    "### Let's process the slogans"
   ]
  },
  {
   "cell_type": "code",
   "execution_count": 10,
   "metadata": {},
   "outputs": [],
   "source": [
    "# Abbreviations of known words\n",
    "abbrv_list = ['lol', 'lmao', 'rofl', 'ive', 'youve', 'brb', 'ttyl', 'im']\n",
    "special_chars_list = ['â', '', '', 'Ã', '©']"
   ]
  },
  {
   "cell_type": "code",
   "execution_count": 11,
   "metadata": {},
   "outputs": [],
   "source": [
    "import string\n",
    "from nltk.corpus import stopwords, wordnet\n",
    "\n",
    "\n",
    "def text_process(msg):\n",
    "    \"\"\"\n",
    "    Takes in a string of text, then performs the following:\n",
    "    1. Remove all punctuation and special chars\n",
    "    2. Replace abbrv with words\n",
    "    3. Remove all stopwords\n",
    "    4. Lemmatize words by removing plurals\n",
    "    5. Returns a list of the cleaned text\n",
    "    \"\"\"\n",
    "    no_punc = []\n",
    "    for char in msg:\n",
    "        if char not in string.punctuation and char not in special_chars_list:\n",
    "            no_punc.append(char)\n",
    "       \n",
    "    no_punc = ''.join(no_punc)\n",
    "    no_punc_word_list = no_punc.split()\n",
    "    \n",
    "    cleaned_msg = []\n",
    "    for word in no_punc_word_list:\n",
    "        \n",
    "        if word.lower() not in stopwords.words('english') and word.lower() not in abbrv_list:\n",
    "            word_lower_case = word.lower()\n",
    "            word_lemmatized = wordnet.morphy(word_lower_case)\n",
    "            \n",
    "            if word_lemmatized is None:\n",
    "                use_word = word_lower_case\n",
    "            else:\n",
    "                use_word = word_lemmatized\n",
    "                \n",
    "            cleaned_msg.append(use_word)\n",
    "    \n",
    "    cleaned_msg = ' '.join(cleaned_msg)\n",
    "\n",
    "    return cleaned_msg"
   ]
  },
  {
   "cell_type": "code",
   "execution_count": 12,
   "metadata": {},
   "outputs": [],
   "source": [
    "col = 'Slogan'"
   ]
  },
  {
   "cell_type": "code",
   "execution_count": 16,
   "metadata": {},
   "outputs": [],
   "source": [
    "cleaned_df = df\n",
    "cleaned_df[col] = df[col].apply(text_process)"
   ]
  },
  {
   "cell_type": "markdown",
   "metadata": {},
   "source": [
    "---"
   ]
  },
  {
   "cell_type": "markdown",
   "metadata": {},
   "source": [
    "### Here are my cleaned slogans"
   ]
  },
  {
   "cell_type": "code",
   "execution_count": 17,
   "metadata": {},
   "outputs": [
    {
     "data": {
      "text/plain": [
       "0                 coffee lover\n",
       "1             evian live young\n",
       "2       design make difference\n",
       "3                         beer\n",
       "4              legend continue\n",
       "                 ...          \n",
       "1136                 food star\n",
       "1137                       way\n",
       "1138             break kit kat\n",
       "1139                 eat fresh\n",
       "1141                     lovin\n",
       "Name: Slogan, Length: 569, dtype: object"
      ]
     },
     "execution_count": 17,
     "metadata": {},
     "output_type": "execute_result"
    }
   ],
   "source": [
    "cleaned_df[col]"
   ]
  },
  {
   "cell_type": "markdown",
   "metadata": {},
   "source": [
    "---"
   ]
  },
  {
   "cell_type": "markdown",
   "metadata": {},
   "source": [
    "### Vectorization of Slogans"
   ]
  },
  {
   "cell_type": "code",
   "execution_count": 18,
   "metadata": {},
   "outputs": [],
   "source": [
    "from sklearn.feature_extraction.text import CountVectorizer"
   ]
  },
  {
   "cell_type": "code",
   "execution_count": 19,
   "metadata": {},
   "outputs": [],
   "source": [
    "# tokenize and build vocab\n",
    "count_vectorizer = CountVectorizer().fit(cleaned_df[col])"
   ]
  },
  {
   "cell_type": "code",
   "execution_count": 20,
   "metadata": {},
   "outputs": [
    {
     "name": "stdout",
     "output_type": "stream",
     "text": [
      "{'coffee': 133, 'lover': 424, 'evian': 219, 'live': 415, 'young': 808, 'design': 180, 'make': 433, 'difference': 183, 'beer': 46, 'legend': 403, 'continue': 143, 'good': 292, 'food': 261, 'taste': 691, 'better': 53, 'glass': 288, 'tio': 718, 'pepe': 515, 'dont': 190, 'things': 708, 'half': 316, 'honest': 342, 'ale': 13, 'run': 598, 'little': 414, 'guy': 312, 'create': 160, 'change': 111, 'thirsty': 711, 'juice': 378, 'jiffy': 375, 'bring': 84, 'crazy': 157, 'genki': 280, 'hatsuratsu': 327, 'hey': 338, 'culligan': 165, 'belvedere': 49, 'always': 14, 'go': 289, 'smoothly': 649, 'pure': 553, 'spirit': 661, 'vodka': 763, 'take': 687, 'white': 784, 'horse': 345, 'anywhere': 19, 'friend': 271, 'old': 490, 'parr': 504, 'royal': 593, 'race': 561, 'place': 529, 'strong': 679, 'healthier': 330, 'gum': 311, 'drink': 194, 'fanta': 229, 'stay': 669, 'bamboocha': 36, 'great': 300, 'head': 329, 'first': 249, 'pizza': 528, 'deliver': 178, 'expert': 223, 'peace': 511, 'love': 423, 'ice': 352, 'cream': 158, 'milo': 445, 'everyday': 214, 'customize': 169, 'cup': 167, 'vorsprung': 765, 'durch': 198, 'technik': 696, 'evolve': 220, 'skincare': 639, 'get': 283, 'nut': 485, 'start': 668, 'nescaf': 473, 'finger': 247, 'lickin': 408, 'original': 497, 'jean': 373, 'people': 514, 'tea': 695, 'secret': 611, 'beautiful': 42, 'hair': 315, 'discover': 187, 'baby': 29, 'world': 796, 'feeling': 238, 'relax': 574, 'times': 717, 'suntory': 682, 'time': 715, 'sharpen': 624, '100': 0, 'natural': 467, 'whole': 785, 'fruit': 274, 'british': 86, 'pop': 536, 'enuf': 211, 'enough': 210, 'different': 184, 'soft': 652, 'indian': 357, 'cola': 135, 'kiss': 388, 'orange': 493, 'bluna': 67, 'official': 488, 'beverage': 54, 'twist': 739, 'thirst': 710, 'crusher': 164, 'everything': 217, 'going': 290, 'ok': 489, 'sugar': 681, 'twice': 738, 'caffeine': 99, 'never': 475, 'see': 613, 'like': 411, 'real': 565, 'every': 213, 'drop': 195, 'milk': 443, 'shake': 621, 'lemon': 404, 'lime': 412, 'conscience': 142, 'busy': 95, 'fizzy': 252, 'unleash': 750, 'beast': 41, 'town': 729, 'uniquely': 749, 'southern': 656, 'deliciously': 177, 'hot': 346, 'cold': 136, 'moxie': 462, 'mine': 447, 'mello': 440, 'yello': 805, 'move': 461, 'veri': 760, 'lemoni': 406, 'totally': 728, 'tropical': 734, 'let': 407, 'nothing': 481, 'fresca': 267, 'barqs': 38, 'bite': 61, 'bucket': 89, 'night': 478, 'still': 673, 'best': 50, 'lemonade': 405, 'perfect': 517, 'gin': 285, 'black': 63, 'seed': 614, 'free': 266, 'vibration': 761, 'nature': 469, 'wont': 794, 'pluto': 535, 'hasta': 325, 'shasta': 625, 'clean': 132, 'sport': 662, 'culture': 166, 'pleasure': 534, 'say': 605, 'australian': 24, 'wine': 788, 'peak': 512, 'commitment': 140, 'outrageously': 500, 'smooth': 647, 'simply': 633, 'seriously': 619, 'easy': 200, 'ready': 564, 'tanqueray': 690, 'whats': 779, 'inside': 363, 'truly': 735, 'count': 151, 'prague': 543, 'southwold': 657, 'pint': 527, 'nothings': 482, 'fresh': 268, 'coldie': 137, 'america': 15, 'lager': 397, 'load': 416, 'look': 419, 'harp': 324, 'side': 631, 'born': 72, 'cool': 146, 'hang': 320, 'around': 20, 'milwaukee': 446, 'famous': 228, 'life': 409, 'cointreauversial': 134, 'seduction': 612, 'king': 387, 'plantation': 531, 'refresh': 571, 'sparkle': 658, 'tasting': 693, 'play': 532, 'moderation': 453, 'feel': 237, 'velvet': 759, 'smile': 644, 'awake': 25, 'ricor': 583, 'le': 401, 'work': 795, 'mother': 459, 'decaffeinate': 175, 'one': 491, 'hit': 339, 'spot': 663, 'there': 705, 'reason': 566, 'flip': 256, 'tip': 719, 'sip': 637, 'zing': 812, 'thing': 707, 'frugo': 273, 'today': 722, 'energy': 208, 'vague': 756, 'ask': 22, 'haig': 314, 'two': 740, 'us': 753, 'power': 542, 'back': 30, 'flavour': 255, 'jungle': 380, 'beyond': 55, 'expectation': 221, 'afore': 9, 'ye': 803, 'the': 703, 'queen': 558, 'table': 686, 'waters': 773, 'heart': 331, 'bitte': 62, 'ein': 204, 'bit': 60, 'ya': 802, 'bon': 70, 'buddy': 90, 'bean': 39, 'planet': 530, 'mabel': 430, 'label': 396, 'game': 279, 'manomanischewitz': 435, 'aye': 28, 'hours': 347, 'relentless': 575, 'no': 479, 'do': 188, 'hype': 351, 'share': 622, 'ummph': 744, 'future': 278, 'light': 410, 'new': 476, 'art': 21, 'dine': 185, 'differ': 182, 'tastefully': 692, 'thunder': 712, 'straight': 678, 'vegetable': 758, 'expertise': 224, 'family': 227, 'traditi': 730, 'cutty': 170, 'vary': 757, 'chivas': 125, 'raise': 563, 'rum': 597, 'awaken': 26, 'courage': 153, 'sit': 638, 'savour': 604, '1664': 1, 'brewing': 82, 'kootenays': 394, 'name': 466, 'filter': 244, 'guinness': 310, 'everywhere': 218, 'day': 174, 'passionate': 508, 'fill': 242, 'rim': 586, 'brim': 83, 'fiddler': 241, 'pay': 510, 'pour': 541, 'something': 653, 'priceless': 547, 'unusual': 751, 'remix': 578, 'double': 193, 'society': 651, 'enjoy': 209, 'contradiction': 144, 'fun': 276, 'calling': 101, 'exquisite': 225, 'wodka': 791, 'ordinary': 495, 'whisky': 783, 'looking': 420, 'sweet': 684, 'purity': 554, 'aged': 10, 'longer': 418, 'smoother': 648, 'tidings': 714, 'blend': 64, 'put': 555, 'talk': 688, 'cheer': 114, 'sense': 617, 'way': 775, 'obey': 487, 'growing': 307, 'karma': 381, 'wake': 767, 'special': 659, 'indulgence': 358, 'jar': 371, 'part': 505, 'wakin': 768, 'home': 341, 'brew': 81, 'refreshingly': 572, 'lucozade': 427, 'aids': 12, 'recovery': 568, 'moment': 454, 'celestial': 106, 'golden': 291, 'britain': 85, 'favourite': 235, 'green': 302, 'fine': 246, 'earth': 199, 'matter': 437, 'kettle': 384, 'everyones': 216, 'proper': 549, 'red': 569, 'rose': 591, 'begin': 48, 'zealand': 810, 'ten': 698, 'rens': 579, 'tetley': 701, 'petillant': 522, 'water': 772, 'must': 465, 'perrier': 520, 'ultimate': 743, 'refreshment': 573, 'magnesium': 432, 'hungry': 348, 'naya': 470, 'pellegrino': 513, 'italian': 368, 'volcanicity': 764, 'body': 69, 'happy': 323, 'know': 393, 'tequila': 700, 'switch': 685, 'ireland': 366, 'single': 636, 'source': 655, 'inspiration': 364, 'greatest': 301, 'nurture': 484, 'ever': 212, 'boaring': 68, 'mix': 451, 'accordingly': 6, 'tell': 697, 'gift': 284, 'whiskey': 782, 'please': 533, 'bourbon': 73, 'keep': 383, 'cooped': 148, 'rolling': 589, 'rock': 587, 'flowing': 258, 'gorgeous': 294, 'beck': 43, 'beckon': 44, 'forget': 262, 'reassuringly': 567, 'expensive': 222, 'paulaner': 509, 'mile': 442, 'away': 27, 'hooray': 344, 'wouldnt': 800, 'give': 287, 'xxxx': 801, 'anything': 17, 'germany': 282, 'funloving': 277, 'travel': 731, 'bad': 31, 'frosty': 272, 'mug': 463, 'sensation': 616, 'slow': 642, 'crisp': 161, 'stuff': 680, 'schhh': 607, 'grip': 305, 'johnnie': 376, 'walker': 769, 'walking': 770, 'last': 398, 'weve': 778, 'kid': 385, 'crown': 162, 'dirty': 186, 'martini': 436, 'nice': 477, 'hawaiian': 328, 'punch': 551, 'itll': 370, 'tickle': 713, 'innards': 361, 'absolut': 5, 'perfection': 518, 'responsibly': 580, 'worth': 798, 'weight': 776, 'delicious': 176, 'pepsi': 516, 'inner': 362, 'carabao': 105, 'uncola': 745, 'probably': 548, 'typhoo': 741, 'worst': 797, 'could': 150, 'happen': 322, 'wiiiings': 787, 'smoke': 646, 'chupa': 129, 'chups': 130, 'mint': 448, 'toblerone': 721, 'daily': 171, 'door': 192, 'add': 7, 'flavor': 254, 'donut': 191, 'favorite': 234, 'well': 777, 'misspend': 449, 'grow': 306, 'ugly': 742, 'friday': 270, 'monster': 456, 'chew': 119, 'trix': 733, 'wafer': 766, 'break': 79, 'layer': 400, 'flake': 253, 'shatter': 626, 'hunting': 350, 'season': 610, 'naturally': 468, 'remarkable': 577, 'chips': 124, 'ingredient': 360, 'whensa': 780, 'dolmio': 189, 'stimulate': 674, 'pork': 539, 'bull': 91, 'come': 139, 'colmans': 138, 'fire': 248, 'bread': 78, 'boursin': 74, 'butter': 96, 'step': 672, 'ahead': 11, 'big': 56, 'chocolate': 126, 'unfold': 748, 'dangerously': 173, 'cheesy': 117, 'wheres': 781, 'filling': 243, 'bake': 34, 'farm': 230, 'oreo': 496, 'eat': 201, 'freak': 265, 'ruffle': 595, 'rrridges': 594, 'zem': 811, 'ing': 359, 'cake': 100, 'stop': 675, 'baking': 35, 'guarantee': 309, 'branston': 77, 'pretty': 545, 'without': 790, 'full': 275, 'burger': 93, 'want': 771, 'handle': 318, 'crunch': 163, 'san': 602, 'francisco': 264, 'treat': 732, 'cent': 107, 'cant': 104, 'theyre': 706, 'icecreamalicious': 353, 'toast': 720, 'grain': 299, 'oat': 486, 'cereal': 109, 'kidtested': 386, 'parentapproved': 503, 'blood': 65, 'youll': 807, 'monstermad': 457, 'honey': 343, 'girl': 286, 'felt': 240, 'bubble': 88, 'melt': 441, 'center': 108, 'tootsie': 726, 'beef': 45, 'sing': 635, 'thats': 702, 'spell': 660, 'relief': 576, 'room': 590, 'jello': 374, 'beanz': 40, 'meanz': 438, 'heinz': 333, 'blue': 66, 'bonnet': 71, 'breakfast': 80, 'bird': 58, 'eye': 226, 'country': 152, 'quick': 559, 'tasty': 694, 'everyone': 215, 'candy': 103, 'bar': 37, 'idaho': 356, 'ich': 354, 'bin': 57, 'gourmeggle': 297, 'thee': 704, 'sure': 683, 'save': 603, 'shursave': 630, 'store': 677, 'shreddie': 629, 'grin': 304, 'aah': 4, 'bisto': 59, 'mouth': 460, 'meat': 439, 'mm': 452, 'champion': 110, 'grrreat': 308, 'rainbow': 562, 'small': 643, 'piece': 525, 'norway': 480, 'wonderland': 793, 'k¼sschen': 395, 'quality': 556, 'square': 665, 'child': 123, 'adult': 8, 'pur': 552, 'chicken': 121, 'tonight': 725, 'hobnob': 340, 'underneath': 746, 'bag': 32, 'hate': 326, 'top': 727, 'knock': 392, 'roll': 588, 'milky': 444, 'lunch': 428, 'reeses': 570, 'passion': 507, 'talking': 689, 'butteryness': 97, 'habit': 313, 'ought': 499, 'congratulate': 141, 'spread': 664, 'slice': 640, 'fit': 251, 'luxury': 429, 'utterly': 755, 'smite': 645, 'perfectly': 519, 'pair': 502, 'sharing': 623, 'genuine': 281, 'music': 464, 'lip': 413, 'creamy': 159, 'seeker': 615, 'would': 799, 'klondike': 391, 'cows': 154, 'eight': 203, 'round': 592, 'long': 417, 'unwrap': 752, 'britton': 87, 'ryvita': 600, 'simple': 632, 'magically': 431, 'unexplainably': 747, 'juicy': 379, 'father': 233, 'use': 754, 'originality': 498, 'scoop': 608, 'irresistible': 367, 'graeters': 298, 'open': 492, 'heaven': 332, 'cornish': 149, 'goodness': 293, 'tomato': 724, 'hunt': 349, 'buy': 98, 'bega': 47, 'choice': 127, 'coonoisseurs': 147, 'jarlsberg': 372, 'herd': 336, 'dairylea': 172, 'years': 804, 'farming': 231, 'pilgrim': 526, 'anythings': 18, 'possible': 540, 'popsicle': 538, 'ride': 584, 'ending': 207, 'return': 582, 'classics': 131, 'bowl': 75, 'perry': 521, 'floaty': 257, 'betcha': 52, 'stops': 676, 'character': 112, 'laughter': 399, 'cheese': 115, 'joy': 377, 'tenderness': 699, 'timeless': 716, 'emotion': 206, 'hello': 334, 'hershey': 337, 'choose': 128, 'shell': 627, 'nestle': 474, 'hands': 319, 'together': 723, 'else': 205, 'fast': 232, 'cheap': 113, 'bagful': 33, 'find': 245, 'hankerin': 321, 'henry': 335, 'id': 355, 'ruther': 599, 'druthers': 197, 'restaurant': 581, 'aurelios': 23, 'money': 455, 'devilish': 181, 'foster': 263, 'wonderful': 792, 'mity': 450, 'hamburger': 317, 'right': 585, 'feed': 236, 'kitchen': 390, 'steakburgers': 671, 'canadian': 102, 'que': 557, 'chez': 120, 'flunch': 259, 'quon': 560, 'peut': 523, 'fluncher': 260, 'curb': 168, 'service': 620, 'pub': 550, 'boy': 76, 'nowhere': 483, 'chef': 118, 'burrito': 94, 'cheesesteak': 116, 'crave': 156, 'rule': 596, 'gotta': 295, 'leave': 402, 'since': 634, '1968': 2, 'trust': 736, 'neighbourhood': 472, 'grill': 303, 'eats': 202, 'scenic': 606, 'view': 762, 'lotz': 422, 'fish': 250, 'serious': 618, 'delivery': 179, 'feelings': 239, 'gottahava': 296, 'wawa': 774, 'italy': 369, 'cooking': 145, 'wiener': 786, 'lowpriced': 426, 'stand': 666, 'yogurt': 806, 'besttasting': 51, 'tuna': 737, 'nearly': 471, 'wings': 789, 'pretzel': 546, 'sonic': 654, 'short': 628, 'steak': 670, 'seafood': 609, 'salad': 601, 'prepare': 544, 'order': 494, '2am': 3, 'youre': 809, 'drunk': 196, 'party': 506, 'popeyes': 537, 'pickle': 524, 'instant': 365, 'mor': 458, 'chikin': 122, 'snap': 650, 'crackle': 155, 'loosen': 421, 'making': 434, 'american': 16, 'slicing': 641, 'freshness': 269, 'think': 709, 'outside': 501, 'bun': 92, 'star': 667, 'kit': 389, 'kat': 382, 'lovin': 425}\n"
     ]
    }
   ],
   "source": [
    "# summarize\n",
    "print(count_vectorizer.vocabulary_)"
   ]
  },
  {
   "cell_type": "code",
   "execution_count": 21,
   "metadata": {},
   "outputs": [
    {
     "name": "stdout",
     "output_type": "stream",
     "text": [
      "  (0, 133)\t1\n",
      "  (0, 424)\t1\n",
      "  (1, 219)\t1\n",
      "  (1, 415)\t1\n",
      "  (1, 808)\t1\n",
      "  (2, 180)\t1\n",
      "  (2, 183)\t1\n",
      "  (2, 433)\t1\n",
      "  (3, 46)\t1\n",
      "  (4, 143)\t1\n",
      "  (4, 403)\t1\n",
      "  (5, 53)\t1\n",
      "  (5, 261)\t1\n",
      "  (5, 288)\t1\n",
      "  (5, 292)\t1\n",
      "  (5, 515)\t1\n",
      "  (5, 691)\t1\n",
      "  (5, 718)\t1\n",
      "  (6, 190)\t1\n",
      "  (6, 316)\t1\n",
      "  (6, 708)\t1\n",
      "  (7, 13)\t1\n",
      "  (7, 292)\t1\n",
      "  (7, 342)\t1\n",
      "  (8, 111)\t1\n",
      "  :\t:\n",
      "  (557, 341)\t1\n",
      "  (558, 261)\t1\n",
      "  (558, 323)\t1\n",
      "  (558, 434)\t1\n",
      "  (558, 514)\t1\n",
      "  (559, 16)\t1\n",
      "  (559, 261)\t1\n",
      "  (560, 184)\t1\n",
      "  (560, 653)\t1\n",
      "  (561, 269)\t1\n",
      "  (561, 641)\t1\n",
      "  (562, 585)\t1\n",
      "  (562, 691)\t1\n",
      "  (563, 92)\t1\n",
      "  (563, 501)\t1\n",
      "  (563, 709)\t1\n",
      "  (564, 261)\t1\n",
      "  (564, 667)\t1\n",
      "  (565, 775)\t1\n",
      "  (566, 79)\t1\n",
      "  (566, 382)\t1\n",
      "  (566, 389)\t1\n",
      "  (567, 201)\t1\n",
      "  (567, 268)\t1\n",
      "  (568, 425)\t1\n"
     ]
    }
   ],
   "source": [
    "# Vector representation of all msgs\n",
    "all_msgs_vector = count_vectorizer.transform(cleaned_df[col])\n",
    "print(all_msgs_vector)"
   ]
  },
  {
   "cell_type": "markdown",
   "metadata": {},
   "source": [
    "---"
   ]
  },
  {
   "cell_type": "markdown",
   "metadata": {},
   "source": [
    "### Applying TF-IDF algorithm"
   ]
  },
  {
   "cell_type": "code",
   "execution_count": 22,
   "metadata": {},
   "outputs": [],
   "source": [
    "from sklearn.feature_extraction.text import TfidfTransformer"
   ]
  },
  {
   "cell_type": "code",
   "execution_count": 23,
   "metadata": {},
   "outputs": [],
   "source": [
    "tfidf_transformer = TfidfTransformer().fit(all_msgs_vector)"
   ]
  },
  {
   "cell_type": "code",
   "execution_count": 24,
   "metadata": {},
   "outputs": [
    {
     "name": "stdout",
     "output_type": "stream",
     "text": [
      "  (0, 424)\t0.8120610477121847\n",
      "  (0, 133)\t0.583572493173375\n",
      "  (1, 808)\t0.6170194344433083\n",
      "  (1, 415)\t0.4884404109392671\n",
      "  (1, 219)\t0.6170194344433083\n",
      "  (2, 433)\t0.3996201195064444\n",
      "  (2, 183)\t0.6275069936630012\n",
      "  (2, 180)\t0.6682355370598582\n",
      "  (3, 46)\t1.0\n",
      "  (4, 403)\t0.7071067811865476\n",
      "  (4, 143)\t0.7071067811865476\n",
      "  (5, 718)\t0.4643575542189262\n",
      "  (5, 691)\t0.27533002873032236\n",
      "  (5, 515)\t0.4643575542189262\n",
      "  (5, 292)\t0.27533002873032236\n",
      "  (5, 288)\t0.4643575542189262\n",
      "  (5, 261)\t0.32371314078907243\n",
      "  (5, 53)\t0.31098671765630925\n",
      "  (6, 708)\t0.5847631354795332\n",
      "  (6, 316)\t0.6227173750031979\n",
      "  (6, 190)\t0.5198799344591708\n",
      "  (7, 342)\t0.6103629191218752\n",
      "  (7, 292)\t0.4039941472967685\n",
      "  (7, 13)\t0.6813558805139794\n",
      "  (8, 598)\t0.4714330618940757\n",
      "  :\t:\n",
      "  (557, 84)\t0.6817816882288547\n",
      "  (558, 514)\t0.5127066510144902\n",
      "  (558, 434)\t0.5946055526513928\n",
      "  (558, 323)\t0.460169742610059\n",
      "  (558, 261)\t0.41451168228148844\n",
      "  (559, 261)\t0.5718758868245777\n",
      "  (559, 16)\t0.8203401550994579\n",
      "  (560, 653)\t0.7071067811865476\n",
      "  (560, 184)\t0.7071067811865476\n",
      "  (561, 641)\t0.7071067811865476\n",
      "  (561, 269)\t0.7071067811865476\n",
      "  (562, 691)\t0.5519405422014124\n",
      "  (562, 585)\t0.8338834678025526\n",
      "  (563, 709)\t0.5773502691896257\n",
      "  (563, 501)\t0.5773502691896257\n",
      "  (563, 92)\t0.5773502691896257\n",
      "  (564, 667)\t0.8203401550994579\n",
      "  (564, 261)\t0.5718758868245777\n",
      "  (565, 775)\t1.0\n",
      "  (566, 389)\t0.5890699532425786\n",
      "  (566, 382)\t0.5890699532425786\n",
      "  (566, 79)\t0.553166503300383\n",
      "  (567, 268)\t0.7200021188983894\n",
      "  (567, 201)\t0.6939718645462722\n",
      "  (568, 425)\t1.0\n"
     ]
    }
   ],
   "source": [
    "messages_tfidf = tfidf_transformer.transform(all_msgs_vector)\n",
    "print(messages_tfidf)"
   ]
  },
  {
   "cell_type": "code",
   "execution_count": 25,
   "metadata": {},
   "outputs": [
    {
     "name": "stdout",
     "output_type": "stream",
     "text": [
      "(569, 813)\n"
     ]
    }
   ],
   "source": [
    "print(messages_tfidf.shape)"
   ]
  },
  {
   "cell_type": "markdown",
   "metadata": {},
   "source": [
    "#### Going by the IDF score should be the best bet since lower score will mean more frequency. \n",
    "#### I will turn the IDF score list into a hasmap and then use the keys of sorted values to find the words "
   ]
  },
  {
   "cell_type": "code",
   "execution_count": 26,
   "metadata": {},
   "outputs": [],
   "source": [
    "idf_score_dict = {}\n",
    "\n",
    "for i,val in enumerate(tfidf_transformer.idf_):\n",
    "    idf_score_dict[i] = val   "
   ]
  },
  {
   "cell_type": "code",
   "execution_count": 27,
   "metadata": {},
   "outputs": [],
   "source": [
    "import operator\n",
    "sorted_idf_score_dict = dict(sorted(idf_score_dict.items(), key=operator.itemgetter(1)))"
   ]
  },
  {
   "cell_type": "code",
   "execution_count": 28,
   "metadata": {},
   "outputs": [
    {
     "data": {
      "text/plain": [
       "[292, 691, 433, 46, 53, 283, 50, 261, 409, 695]"
      ]
     },
     "execution_count": 28,
     "metadata": {},
     "output_type": "execute_result"
    }
   ],
   "source": [
    "top_10_idf_score_list = list(sorted_idf_score_dict.keys())[0:10]\n",
    "top_10_idf_score_list"
   ]
  },
  {
   "cell_type": "code",
   "execution_count": 29,
   "metadata": {},
   "outputs": [
    {
     "name": "stdout",
     "output_type": "stream",
     "text": [
      "good 3.9444389791664403\n",
      "taste 3.9444389791664403\n",
      "make 3.9783405308421216\n",
      "beer 4.455264602932431\n",
      "better 4.455264602932431\n",
      "get 4.573047638588815\n",
      "best 4.637586159726386\n",
      "food 4.637586159726386\n",
      "life 4.637586159726386\n",
      "tea 4.706579031213337\n"
     ]
    }
   ],
   "source": [
    "unique_word_list = count_vectorizer.get_feature_names()\n",
    "\n",
    "for i in top_10_idf_score_list:\n",
    "    try:\n",
    "        print(unique_word_list[i], idf_score_dict[i])\n",
    "    except Exception as ex:\n",
    "        print(\"no word matching the index\")"
   ]
  },
  {
   "cell_type": "markdown",
   "metadata": {},
   "source": [
    "### From the result, it looks like the dataset has a lot of slogans for edible items"
   ]
  },
  {
   "cell_type": "markdown",
   "metadata": {},
   "source": [
    "### Verifying my results for some of these words"
   ]
  },
  {
   "cell_type": "code",
   "execution_count": 30,
   "metadata": {},
   "outputs": [
    {
     "data": {
      "text/html": [
       "<div>\n",
       "<style scoped>\n",
       "    .dataframe tbody tr th:only-of-type {\n",
       "        vertical-align: middle;\n",
       "    }\n",
       "\n",
       "    .dataframe tbody tr th {\n",
       "        vertical-align: top;\n",
       "    }\n",
       "\n",
       "    .dataframe thead th {\n",
       "        text-align: right;\n",
       "    }\n",
       "</style>\n",
       "<table border=\"1\" class=\"dataframe\">\n",
       "  <thead>\n",
       "    <tr style=\"text-align: right;\">\n",
       "      <th></th>\n",
       "      <th>Company</th>\n",
       "      <th>Slogan</th>\n",
       "    </tr>\n",
       "  </thead>\n",
       "  <tbody>\n",
       "    <tr>\n",
       "      <th>5</th>\n",
       "      <td>TÃ­o Pepe</td>\n",
       "      <td>good food taste better glass tio pepe</td>\n",
       "    </tr>\n",
       "    <tr>\n",
       "      <th>7</th>\n",
       "      <td>Batemans Brewery</td>\n",
       "      <td>good honest ale</td>\n",
       "    </tr>\n",
       "    <tr>\n",
       "      <th>34</th>\n",
       "      <td>KFC(Kentucky Fried Chicken)</td>\n",
       "      <td>finger lickin good</td>\n",
       "    </tr>\n",
       "    <tr>\n",
       "      <th>120</th>\n",
       "      <td>Sunkist (soft drink)</td>\n",
       "      <td>good vibration</td>\n",
       "    </tr>\n",
       "    <tr>\n",
       "      <th>177</th>\n",
       "      <td>United Breweries</td>\n",
       "      <td>king good times</td>\n",
       "    </tr>\n",
       "    <tr>\n",
       "      <th>296</th>\n",
       "      <td>Labatt Brewing Company</td>\n",
       "      <td>good things brewing</td>\n",
       "    </tr>\n",
       "    <tr>\n",
       "      <th>321</th>\n",
       "      <td>Guinness</td>\n",
       "      <td>guinness good</td>\n",
       "    </tr>\n",
       "    <tr>\n",
       "      <th>360</th>\n",
       "      <td>Jamba Juice</td>\n",
       "      <td>good tidings blend</td>\n",
       "    </tr>\n",
       "    <tr>\n",
       "      <th>368</th>\n",
       "      <td>Lavazza</td>\n",
       "      <td>good karma great coffee</td>\n",
       "    </tr>\n",
       "    <tr>\n",
       "      <th>400</th>\n",
       "      <td>Yogi Tea</td>\n",
       "      <td>good feel</td>\n",
       "    </tr>\n",
       "    <tr>\n",
       "      <th>405</th>\n",
       "      <td>Kericho Gold</td>\n",
       "      <td>matter good taste</td>\n",
       "    </tr>\n",
       "    <tr>\n",
       "      <th>409</th>\n",
       "      <td>Red Rose Tea</td>\n",
       "      <td>red rose tea good tea</td>\n",
       "    </tr>\n",
       "    <tr>\n",
       "      <th>458</th>\n",
       "      <td>Wild Turkey (bourbon)</td>\n",
       "      <td>good keep cooped</td>\n",
       "    </tr>\n",
       "    <tr>\n",
       "      <th>485</th>\n",
       "      <td>Paulaner Brewery</td>\n",
       "      <td>good better paulaner</td>\n",
       "    </tr>\n",
       "    <tr>\n",
       "      <th>492</th>\n",
       "      <td>Bad Frog</td>\n",
       "      <td>beer good bad</td>\n",
       "    </tr>\n",
       "    <tr>\n",
       "      <th>521</th>\n",
       "      <td>Maxwell House</td>\n",
       "      <td>good last drop</td>\n",
       "    </tr>\n",
       "    <tr>\n",
       "      <th>531</th>\n",
       "      <td>Naked Juice</td>\n",
       "      <td>worth weight good</td>\n",
       "    </tr>\n",
       "    <tr>\n",
       "      <th>718</th>\n",
       "      <td>Campbell's</td>\n",
       "      <td>mm mm good</td>\n",
       "    </tr>\n",
       "    <tr>\n",
       "      <th>743</th>\n",
       "      <td>Mamee Double-Decker</td>\n",
       "      <td>world good taste</td>\n",
       "    </tr>\n",
       "    <tr>\n",
       "      <th>760</th>\n",
       "      <td>Smucker</td>\n",
       "      <td>good</td>\n",
       "    </tr>\n",
       "    <tr>\n",
       "      <th>785</th>\n",
       "      <td>Country Crock</td>\n",
       "      <td>good habit delicious</td>\n",
       "    </tr>\n",
       "    <tr>\n",
       "      <th>836</th>\n",
       "      <td>Swensen's</td>\n",
       "      <td>good father use make</td>\n",
       "    </tr>\n",
       "    <tr>\n",
       "      <th>865</th>\n",
       "      <td>Vadilal</td>\n",
       "      <td>nothing goodness</td>\n",
       "    </tr>\n",
       "    <tr>\n",
       "      <th>872</th>\n",
       "      <td>Dairylea (cheese)</td>\n",
       "      <td>herd dairylea goodness</td>\n",
       "    </tr>\n",
       "    <tr>\n",
       "      <th>874</th>\n",
       "      <td>Pilgrims Choice</td>\n",
       "      <td>good choice pilgrim</td>\n",
       "    </tr>\n",
       "    <tr>\n",
       "      <th>920</th>\n",
       "      <td>Nestles</td>\n",
       "      <td>nestle good food good life</td>\n",
       "    </tr>\n",
       "    <tr>\n",
       "      <th>945</th>\n",
       "      <td>Heinz</td>\n",
       "      <td>good food every day</td>\n",
       "    </tr>\n",
       "    <tr>\n",
       "      <th>967</th>\n",
       "      <td>Applebee's</td>\n",
       "      <td>together good</td>\n",
       "    </tr>\n",
       "    <tr>\n",
       "      <th>981</th>\n",
       "      <td>Orange Julius</td>\n",
       "      <td>devilish good drink</td>\n",
       "    </tr>\n",
       "    <tr>\n",
       "      <th>1055</th>\n",
       "      <td>Checkers and Rally's</td>\n",
       "      <td>crazy good food</td>\n",
       "    </tr>\n",
       "    <tr>\n",
       "      <th>1059</th>\n",
       "      <td>Village Inn</td>\n",
       "      <td>good food good feelings</td>\n",
       "    </tr>\n",
       "  </tbody>\n",
       "</table>\n",
       "</div>"
      ],
      "text/plain": [
       "                          Company                                 Slogan\n",
       "5                       TÃ­o Pepe  good food taste better glass tio pepe\n",
       "7                Batemans Brewery                        good honest ale\n",
       "34    KFC(Kentucky Fried Chicken)                     finger lickin good\n",
       "120          Sunkist (soft drink)                         good vibration\n",
       "177              United Breweries                        king good times\n",
       "296        Labatt Brewing Company                    good things brewing\n",
       "321                      Guinness                          guinness good\n",
       "360                   Jamba Juice                     good tidings blend\n",
       "368                       Lavazza                good karma great coffee\n",
       "400                      Yogi Tea                              good feel\n",
       "405                  Kericho Gold                      matter good taste\n",
       "409                  Red Rose Tea                  red rose tea good tea\n",
       "458         Wild Turkey (bourbon)                       good keep cooped\n",
       "485              Paulaner Brewery                   good better paulaner\n",
       "492                      Bad Frog                          beer good bad\n",
       "521                 Maxwell House                         good last drop\n",
       "531                   Naked Juice                      worth weight good\n",
       "718                    Campbell's                             mm mm good\n",
       "743           Mamee Double-Decker                       world good taste\n",
       "760                       Smucker                                   good\n",
       "785                 Country Crock                   good habit delicious\n",
       "836                     Swensen's                   good father use make\n",
       "865                       Vadilal                       nothing goodness\n",
       "872             Dairylea (cheese)                 herd dairylea goodness\n",
       "874               Pilgrims Choice                    good choice pilgrim\n",
       "920                       Nestles             nestle good food good life\n",
       "945                         Heinz                    good food every day\n",
       "967                    Applebee's                          together good\n",
       "981                 Orange Julius                    devilish good drink\n",
       "1055         Checkers and Rally's                        crazy good food\n",
       "1059                  Village Inn                good food good feelings"
      ]
     },
     "execution_count": 30,
     "metadata": {},
     "output_type": "execute_result"
    }
   ],
   "source": [
    "cleaned_df[cleaned_df['Slogan'].str.contains(\"good\")]"
   ]
  },
  {
   "cell_type": "code",
   "execution_count": 31,
   "metadata": {},
   "outputs": [
    {
     "data": {
      "text/html": [
       "<div>\n",
       "<style scoped>\n",
       "    .dataframe tbody tr th:only-of-type {\n",
       "        vertical-align: middle;\n",
       "    }\n",
       "\n",
       "    .dataframe tbody tr th {\n",
       "        vertical-align: top;\n",
       "    }\n",
       "\n",
       "    .dataframe thead th {\n",
       "        text-align: right;\n",
       "    }\n",
       "</style>\n",
       "<table border=\"1\" class=\"dataframe\">\n",
       "  <thead>\n",
       "    <tr style=\"text-align: right;\">\n",
       "      <th></th>\n",
       "      <th>Company</th>\n",
       "      <th>Slogan</th>\n",
       "    </tr>\n",
       "  </thead>\n",
       "  <tbody>\n",
       "    <tr>\n",
       "      <th>5</th>\n",
       "      <td>TÃ­o Pepe</td>\n",
       "      <td>good food taste better glass tio pepe</td>\n",
       "    </tr>\n",
       "    <tr>\n",
       "      <th>39</th>\n",
       "      <td>Coca-Cola</td>\n",
       "      <td>taste feeling</td>\n",
       "    </tr>\n",
       "    <tr>\n",
       "      <th>47</th>\n",
       "      <td>Campa Cola</td>\n",
       "      <td>great indian taste</td>\n",
       "    </tr>\n",
       "    <tr>\n",
       "      <th>56</th>\n",
       "      <td>Crystal Pepsi</td>\n",
       "      <td>never see taste like</td>\n",
       "    </tr>\n",
       "    <tr>\n",
       "      <th>83</th>\n",
       "      <td>Dr. Brown's</td>\n",
       "      <td>taste town</td>\n",
       "    </tr>\n",
       "    <tr>\n",
       "      <th>90</th>\n",
       "      <td>Lilt</td>\n",
       "      <td>totally tropical taste</td>\n",
       "    </tr>\n",
       "    <tr>\n",
       "      <th>92</th>\n",
       "      <td>Fresca</td>\n",
       "      <td>nothing taste like fresca</td>\n",
       "    </tr>\n",
       "    <tr>\n",
       "      <th>99</th>\n",
       "      <td>Jolly Cola</td>\n",
       "      <td>free taste</td>\n",
       "    </tr>\n",
       "    <tr>\n",
       "      <th>127</th>\n",
       "      <td>Sutter Home Winery</td>\n",
       "      <td>taste commitment</td>\n",
       "    </tr>\n",
       "    <tr>\n",
       "      <th>133</th>\n",
       "      <td>Staropramen Brewery</td>\n",
       "      <td>get taste prague</td>\n",
       "    </tr>\n",
       "    <tr>\n",
       "      <th>137</th>\n",
       "      <td>Minute Maid</td>\n",
       "      <td>load taste</td>\n",
       "    </tr>\n",
       "    <tr>\n",
       "      <th>164</th>\n",
       "      <td>Disaronno</td>\n",
       "      <td>taste seduction</td>\n",
       "    </tr>\n",
       "    <tr>\n",
       "      <th>208</th>\n",
       "      <td>Gilbey's gin</td>\n",
       "      <td>taste smooth gin today</td>\n",
       "    </tr>\n",
       "    <tr>\n",
       "      <th>283</th>\n",
       "      <td>Tapal Tea</td>\n",
       "      <td>differ tastefully</td>\n",
       "    </tr>\n",
       "    <tr>\n",
       "      <th>284</th>\n",
       "      <td>Thums Up</td>\n",
       "      <td>taste thunder</td>\n",
       "    </tr>\n",
       "    <tr>\n",
       "      <th>298</th>\n",
       "      <td>Old Milwaukee</td>\n",
       "      <td>taste great name</td>\n",
       "    </tr>\n",
       "    <tr>\n",
       "      <th>320</th>\n",
       "      <td>Amstel Brewery</td>\n",
       "      <td>taste life pure filter</td>\n",
       "    </tr>\n",
       "    <tr>\n",
       "      <th>338</th>\n",
       "      <td>Bisleri</td>\n",
       "      <td>sweet taste purity</td>\n",
       "    </tr>\n",
       "    <tr>\n",
       "      <th>339</th>\n",
       "      <td>Evan Williams</td>\n",
       "      <td>aged longer taste smoother</td>\n",
       "    </tr>\n",
       "    <tr>\n",
       "      <th>376</th>\n",
       "      <td>Gold Peak Tea</td>\n",
       "      <td>home brew taste</td>\n",
       "    </tr>\n",
       "    <tr>\n",
       "      <th>405</th>\n",
       "      <td>Kericho Gold</td>\n",
       "      <td>matter good taste</td>\n",
       "    </tr>\n",
       "    <tr>\n",
       "      <th>491</th>\n",
       "      <td>Dos Equis</td>\n",
       "      <td>let taste travel</td>\n",
       "    </tr>\n",
       "    <tr>\n",
       "      <th>640</th>\n",
       "      <td>Walkers</td>\n",
       "      <td>fresh taste guarantee</td>\n",
       "    </tr>\n",
       "    <tr>\n",
       "      <th>741</th>\n",
       "      <td>Skittles</td>\n",
       "      <td>taste rainbow</td>\n",
       "    </tr>\n",
       "    <tr>\n",
       "      <th>743</th>\n",
       "      <td>Mamee Double-Decker</td>\n",
       "      <td>world good taste</td>\n",
       "    </tr>\n",
       "    <tr>\n",
       "      <th>798</th>\n",
       "      <td>Weis</td>\n",
       "      <td>taste everyones lip</td>\n",
       "    </tr>\n",
       "    <tr>\n",
       "      <th>862</th>\n",
       "      <td>Kraft Foods</td>\n",
       "      <td>little taste heaven</td>\n",
       "    </tr>\n",
       "    <tr>\n",
       "      <th>1008</th>\n",
       "      <td>Spangles</td>\n",
       "      <td>taste better</td>\n",
       "    </tr>\n",
       "    <tr>\n",
       "      <th>1022</th>\n",
       "      <td>Steers</td>\n",
       "      <td>taste better</td>\n",
       "    </tr>\n",
       "    <tr>\n",
       "      <th>1132</th>\n",
       "      <td>Wendy's</td>\n",
       "      <td>taste right</td>\n",
       "    </tr>\n",
       "  </tbody>\n",
       "</table>\n",
       "</div>"
      ],
      "text/plain": [
       "                  Company                                 Slogan\n",
       "5               TÃ­o Pepe  good food taste better glass tio pepe\n",
       "39              Coca-Cola                          taste feeling\n",
       "47             Campa Cola                     great indian taste\n",
       "56          Crystal Pepsi                   never see taste like\n",
       "83            Dr. Brown's                             taste town\n",
       "90                   Lilt                 totally tropical taste\n",
       "92                 Fresca              nothing taste like fresca\n",
       "99             Jolly Cola                             free taste\n",
       "127    Sutter Home Winery                       taste commitment\n",
       "133   Staropramen Brewery                       get taste prague\n",
       "137           Minute Maid                             load taste\n",
       "164             Disaronno                        taste seduction\n",
       "208          Gilbey's gin                 taste smooth gin today\n",
       "283             Tapal Tea                      differ tastefully\n",
       "284              Thums Up                          taste thunder\n",
       "298         Old Milwaukee                       taste great name\n",
       "320        Amstel Brewery                 taste life pure filter\n",
       "338               Bisleri                     sweet taste purity\n",
       "339         Evan Williams             aged longer taste smoother\n",
       "376         Gold Peak Tea                        home brew taste\n",
       "405          Kericho Gold                      matter good taste\n",
       "491             Dos Equis                       let taste travel\n",
       "640               Walkers                  fresh taste guarantee\n",
       "741              Skittles                          taste rainbow\n",
       "743   Mamee Double-Decker                       world good taste\n",
       "798                  Weis                    taste everyones lip\n",
       "862           Kraft Foods                    little taste heaven\n",
       "1008             Spangles                           taste better\n",
       "1022               Steers                           taste better\n",
       "1132              Wendy's                            taste right"
      ]
     },
     "execution_count": 31,
     "metadata": {},
     "output_type": "execute_result"
    }
   ],
   "source": [
    "cleaned_df[cleaned_df['Slogan'].str.contains(\"taste\")]"
   ]
  },
  {
   "cell_type": "code",
   "execution_count": 32,
   "metadata": {},
   "outputs": [
    {
     "data": {
      "text/html": [
       "<div>\n",
       "<style scoped>\n",
       "    .dataframe tbody tr th:only-of-type {\n",
       "        vertical-align: middle;\n",
       "    }\n",
       "\n",
       "    .dataframe tbody tr th {\n",
       "        vertical-align: top;\n",
       "    }\n",
       "\n",
       "    .dataframe thead th {\n",
       "        text-align: right;\n",
       "    }\n",
       "</style>\n",
       "<table border=\"1\" class=\"dataframe\">\n",
       "  <thead>\n",
       "    <tr style=\"text-align: right;\">\n",
       "      <th></th>\n",
       "      <th>Company</th>\n",
       "      <th>Slogan</th>\n",
       "    </tr>\n",
       "  </thead>\n",
       "  <tbody>\n",
       "    <tr>\n",
       "      <th>5</th>\n",
       "      <td>TÃ­o Pepe</td>\n",
       "      <td>good food taste better glass tio pepe</td>\n",
       "    </tr>\n",
       "    <tr>\n",
       "      <th>95</th>\n",
       "      <td>Horlicks</td>\n",
       "      <td>food drink night</td>\n",
       "    </tr>\n",
       "    <tr>\n",
       "      <th>587</th>\n",
       "      <td>Dan-D Foods</td>\n",
       "      <td>fine food earth</td>\n",
       "    </tr>\n",
       "    <tr>\n",
       "      <th>588</th>\n",
       "      <td>Canyon Creek Food Company</td>\n",
       "      <td>favorite food make easy</td>\n",
       "    </tr>\n",
       "    <tr>\n",
       "      <th>920</th>\n",
       "      <td>Nestles</td>\n",
       "      <td>nestle good food good life</td>\n",
       "    </tr>\n",
       "    <tr>\n",
       "      <th>945</th>\n",
       "      <td>Heinz</td>\n",
       "      <td>good food every day</td>\n",
       "    </tr>\n",
       "    <tr>\n",
       "      <th>969</th>\n",
       "      <td>Winky's</td>\n",
       "      <td>fast food cheap</td>\n",
       "    </tr>\n",
       "    <tr>\n",
       "      <th>1013</th>\n",
       "      <td>Brewers Fayre</td>\n",
       "      <td>pub food</td>\n",
       "    </tr>\n",
       "    <tr>\n",
       "      <th>1055</th>\n",
       "      <td>Checkers and Rally's</td>\n",
       "      <td>crazy good food</td>\n",
       "    </tr>\n",
       "    <tr>\n",
       "      <th>1059</th>\n",
       "      <td>Village Inn</td>\n",
       "      <td>good food good feelings</td>\n",
       "    </tr>\n",
       "    <tr>\n",
       "      <th>1096</th>\n",
       "      <td>ConAgra Foods</td>\n",
       "      <td>food love</td>\n",
       "    </tr>\n",
       "    <tr>\n",
       "      <th>1098</th>\n",
       "      <td>Sizzler</td>\n",
       "      <td>great steak seafood salad</td>\n",
       "    </tr>\n",
       "    <tr>\n",
       "      <th>1128</th>\n",
       "      <td>Carl's Jr.</td>\n",
       "      <td>making people happy food</td>\n",
       "    </tr>\n",
       "    <tr>\n",
       "      <th>1129</th>\n",
       "      <td>A&amp;W</td>\n",
       "      <td>w american food</td>\n",
       "    </tr>\n",
       "    <tr>\n",
       "      <th>1136</th>\n",
       "      <td>Hardee's</td>\n",
       "      <td>food star</td>\n",
       "    </tr>\n",
       "  </tbody>\n",
       "</table>\n",
       "</div>"
      ],
      "text/plain": [
       "                        Company                                 Slogan\n",
       "5                     TÃ­o Pepe  good food taste better glass tio pepe\n",
       "95                     Horlicks                       food drink night\n",
       "587                 Dan-D Foods                        fine food earth\n",
       "588   Canyon Creek Food Company                favorite food make easy\n",
       "920                     Nestles             nestle good food good life\n",
       "945                       Heinz                    good food every day\n",
       "969                     Winky's                        fast food cheap\n",
       "1013              Brewers Fayre                               pub food\n",
       "1055       Checkers and Rally's                        crazy good food\n",
       "1059                Village Inn                good food good feelings\n",
       "1096              ConAgra Foods                              food love\n",
       "1098                    Sizzler              great steak seafood salad\n",
       "1128                 Carl's Jr.               making people happy food\n",
       "1129                        A&W                        w american food\n",
       "1136                   Hardee's                              food star"
      ]
     },
     "execution_count": 32,
     "metadata": {},
     "output_type": "execute_result"
    }
   ],
   "source": [
    "cleaned_df[cleaned_df['Slogan'].str.contains(\"food\")]"
   ]
  },
  {
   "cell_type": "markdown",
   "metadata": {},
   "source": [
    "### These words are very frequent in the slogans so my results are correct"
   ]
  }
 ],
 "metadata": {
  "kernelspec": {
   "display_name": "Python 3",
   "language": "python",
   "name": "python3"
  },
  "language_info": {
   "codemirror_mode": {
    "name": "ipython",
    "version": 3
   },
   "file_extension": ".py",
   "mimetype": "text/x-python",
   "name": "python",
   "nbconvert_exporter": "python",
   "pygments_lexer": "ipython3",
   "version": "3.7.0"
  }
 },
 "nbformat": 4,
 "nbformat_minor": 4
}
